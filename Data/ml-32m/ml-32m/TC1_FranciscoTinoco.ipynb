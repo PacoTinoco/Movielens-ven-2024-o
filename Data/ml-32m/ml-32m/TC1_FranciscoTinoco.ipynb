{
 "cells": [
  {
   "cell_type": "code",
   "execution_count": 3,
   "id": "initial_id",
   "metadata": {
    "collapsed": true,
    "ExecuteTime": {
     "end_time": "2024-08-21T03:02:28.850598600Z",
     "start_time": "2024-08-21T03:02:28.093555Z"
    }
   },
   "outputs": [],
   "source": [
    "import pandas as pd "
   ]
  },
  {
   "cell_type": "code",
   "outputs": [
    {
     "data": {
      "text/plain": "       movieId                               title  \\\n0            1                    Toy Story (1995)   \n1            2                      Jumanji (1995)   \n2            3             Grumpier Old Men (1995)   \n3            4            Waiting to Exhale (1995)   \n4            5  Father of the Bride Part II (1995)   \n...        ...                                 ...   \n87580   292731           The Monroy Affaire (2022)   \n87581   292737          Shelter in Solitude (2023)   \n87582   292753                         Orca (2023)   \n87583   292755              The Angry Breed (1968)   \n87584   292757           Race to the Summit (2023)   \n\n                                            genres  \n0      Adventure|Animation|Children|Comedy|Fantasy  \n1                       Adventure|Children|Fantasy  \n2                                   Comedy|Romance  \n3                             Comedy|Drama|Romance  \n4                                           Comedy  \n...                                            ...  \n87580                                        Drama  \n87581                                 Comedy|Drama  \n87582                                        Drama  \n87583                                        Drama  \n87584                 Action|Adventure|Documentary  \n\n[87585 rows x 3 columns]",
      "text/html": "<div>\n<style scoped>\n    .dataframe tbody tr th:only-of-type {\n        vertical-align: middle;\n    }\n\n    .dataframe tbody tr th {\n        vertical-align: top;\n    }\n\n    .dataframe thead th {\n        text-align: right;\n    }\n</style>\n<table border=\"1\" class=\"dataframe\">\n  <thead>\n    <tr style=\"text-align: right;\">\n      <th></th>\n      <th>movieId</th>\n      <th>title</th>\n      <th>genres</th>\n    </tr>\n  </thead>\n  <tbody>\n    <tr>\n      <th>0</th>\n      <td>1</td>\n      <td>Toy Story (1995)</td>\n      <td>Adventure|Animation|Children|Comedy|Fantasy</td>\n    </tr>\n    <tr>\n      <th>1</th>\n      <td>2</td>\n      <td>Jumanji (1995)</td>\n      <td>Adventure|Children|Fantasy</td>\n    </tr>\n    <tr>\n      <th>2</th>\n      <td>3</td>\n      <td>Grumpier Old Men (1995)</td>\n      <td>Comedy|Romance</td>\n    </tr>\n    <tr>\n      <th>3</th>\n      <td>4</td>\n      <td>Waiting to Exhale (1995)</td>\n      <td>Comedy|Drama|Romance</td>\n    </tr>\n    <tr>\n      <th>4</th>\n      <td>5</td>\n      <td>Father of the Bride Part II (1995)</td>\n      <td>Comedy</td>\n    </tr>\n    <tr>\n      <th>...</th>\n      <td>...</td>\n      <td>...</td>\n      <td>...</td>\n    </tr>\n    <tr>\n      <th>87580</th>\n      <td>292731</td>\n      <td>The Monroy Affaire (2022)</td>\n      <td>Drama</td>\n    </tr>\n    <tr>\n      <th>87581</th>\n      <td>292737</td>\n      <td>Shelter in Solitude (2023)</td>\n      <td>Comedy|Drama</td>\n    </tr>\n    <tr>\n      <th>87582</th>\n      <td>292753</td>\n      <td>Orca (2023)</td>\n      <td>Drama</td>\n    </tr>\n    <tr>\n      <th>87583</th>\n      <td>292755</td>\n      <td>The Angry Breed (1968)</td>\n      <td>Drama</td>\n    </tr>\n    <tr>\n      <th>87584</th>\n      <td>292757</td>\n      <td>Race to the Summit (2023)</td>\n      <td>Action|Adventure|Documentary</td>\n    </tr>\n  </tbody>\n</table>\n<p>87585 rows × 3 columns</p>\n</div>"
     },
     "execution_count": 7,
     "metadata": {},
     "output_type": "execute_result"
    }
   ],
   "source": [
    "file_path = r\"C:\\Users\\Francisco\\Downloads\\proyectoCienciaDeDatos2\\ml-32m\\ml-32m\\movies.csv\"\n",
    "movies_df = pd.read_csv(file_path)\n",
    "movies_df"
   ],
   "metadata": {
    "collapsed": false,
    "ExecuteTime": {
     "end_time": "2024-08-21T03:09:57.774703400Z",
     "start_time": "2024-08-21T03:09:57.617131500Z"
    }
   },
   "id": "e1d0bde1518e6576",
   "execution_count": 7
  },
  {
   "cell_type": "code",
   "outputs": [
    {
     "name": "stdout",
     "output_type": "stream",
     "text": [
      "   userId  movieId  rating  timestamp\n",
      "0       1       17     4.0  944249077\n",
      "1       1       25     1.0  944250228\n",
      "2       1       29     2.0  943230976\n",
      "3       1       30     5.0  944249077\n",
      "4       1       32     5.0  943228858\n"
     ]
    }
   ],
   "source": [
    "file_path = r\"C:\\Users\\Francisco\\Downloads\\proyectoCienciaDeDatos2\\ml-32m\\ml-32m\\ratings.csv\"\n",
    "\n",
    "ratings = pd.read_csv(file_path)\n",
    "\n",
    "print(ratings.head())\n"
   ],
   "metadata": {
    "collapsed": false,
    "ExecuteTime": {
     "end_time": "2024-08-21T03:11:38.957257600Z",
     "start_time": "2024-08-21T03:11:30.169617700Z"
    }
   },
   "id": "a62dcebc7578a94f",
   "execution_count": 9
  },
  {
   "cell_type": "code",
   "outputs": [
    {
     "data": {
      "text/plain": "Index(['userId', 'movieId', 'rating', 'timestamp'], dtype='object')"
     },
     "execution_count": 11,
     "metadata": {},
     "output_type": "execute_result"
    }
   ],
   "source": [
    "ratings.columns"
   ],
   "metadata": {
    "collapsed": false,
    "ExecuteTime": {
     "end_time": "2024-08-21T03:13:03.741717500Z",
     "start_time": "2024-08-21T03:13:03.729082900Z"
    }
   },
   "id": "f12cd3bd3a59af33",
   "execution_count": 11
  },
  {
   "cell_type": "code",
   "outputs": [],
   "source": [
    "ratings['timestamp'] = pd.to_datetime(ratings['timestamp'], unit='s')\n",
    "ratings_2005 = ratings[ratings['timestamp'].dt.year == 2005]\n"
   ],
   "metadata": {
    "collapsed": false,
    "ExecuteTime": {
     "end_time": "2024-08-21T03:14:39.084184800Z",
     "start_time": "2024-08-21T03:14:21.990271300Z"
    }
   },
   "id": "fd9943c7ee63be62",
   "execution_count": 12
  }
 ],
 "metadata": {
  "kernelspec": {
   "display_name": "Python 3",
   "language": "python",
   "name": "python3"
  },
  "language_info": {
   "codemirror_mode": {
    "name": "ipython",
    "version": 2
   },
   "file_extension": ".py",
   "mimetype": "text/x-python",
   "name": "python",
   "nbconvert_exporter": "python",
   "pygments_lexer": "ipython2",
   "version": "2.7.6"
  }
 },
 "nbformat": 4,
 "nbformat_minor": 5
}
